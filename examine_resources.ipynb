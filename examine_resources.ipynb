{
 "cells": [
  {
   "cell_type": "code",
   "execution_count": 1,
   "metadata": {},
   "outputs": [],
   "source": [
    "import pickle\n",
    "import pandas as pd"
   ]
  },
  {
   "cell_type": "code",
   "execution_count": 2,
   "metadata": {},
   "outputs": [
    {
     "ename": "FileNotFoundError",
     "evalue": "[Errno 2] No such file or directory: 'features/test/selected_hashtags.interactions.parquet'",
     "output_type": "error",
     "traceback": [
      "\u001b[0;31m---------------------------------------------------------------------------\u001b[0m",
      "\u001b[0;31mFileNotFoundError\u001b[0m                         Traceback (most recent call last)",
      "Cell \u001b[0;32mIn[2], line 1\u001b[0m\n\u001b[0;32m----> 1\u001b[0m interactions \u001b[38;5;241m=\u001b[39m pd\u001b[38;5;241m.\u001b[39mread_parquet(\u001b[38;5;124m\"\u001b[39m\u001b[38;5;124mfeatures/test/selected_hashtags.interactions.parquet\u001b[39m\u001b[38;5;124m\"\u001b[39m)\n\u001b[1;32m      2\u001b[0m interactions\n",
      "File \u001b[0;32m~/.conda/envs/pacheco/lib/python3.11/site-packages/pandas/io/parquet.py:667\u001b[0m, in \u001b[0;36mread_parquet\u001b[0;34m(path, engine, columns, storage_options, use_nullable_dtypes, dtype_backend, filesystem, filters, **kwargs)\u001b[0m\n\u001b[1;32m    664\u001b[0m     use_nullable_dtypes \u001b[38;5;241m=\u001b[39m \u001b[38;5;28;01mFalse\u001b[39;00m\n\u001b[1;32m    665\u001b[0m check_dtype_backend(dtype_backend)\n\u001b[0;32m--> 667\u001b[0m \u001b[38;5;28;01mreturn\u001b[39;00m impl\u001b[38;5;241m.\u001b[39mread(\n\u001b[1;32m    668\u001b[0m     path,\n\u001b[1;32m    669\u001b[0m     columns\u001b[38;5;241m=\u001b[39mcolumns,\n\u001b[1;32m    670\u001b[0m     filters\u001b[38;5;241m=\u001b[39mfilters,\n\u001b[1;32m    671\u001b[0m     storage_options\u001b[38;5;241m=\u001b[39mstorage_options,\n\u001b[1;32m    672\u001b[0m     use_nullable_dtypes\u001b[38;5;241m=\u001b[39muse_nullable_dtypes,\n\u001b[1;32m    673\u001b[0m     dtype_backend\u001b[38;5;241m=\u001b[39mdtype_backend,\n\u001b[1;32m    674\u001b[0m     filesystem\u001b[38;5;241m=\u001b[39mfilesystem,\n\u001b[1;32m    675\u001b[0m     \u001b[38;5;241m*\u001b[39m\u001b[38;5;241m*\u001b[39mkwargs,\n\u001b[1;32m    676\u001b[0m )\n",
      "File \u001b[0;32m~/.conda/envs/pacheco/lib/python3.11/site-packages/pandas/io/parquet.py:267\u001b[0m, in \u001b[0;36mPyArrowImpl.read\u001b[0;34m(self, path, columns, filters, use_nullable_dtypes, dtype_backend, storage_options, filesystem, **kwargs)\u001b[0m\n\u001b[1;32m    264\u001b[0m \u001b[38;5;28;01mif\u001b[39;00m manager \u001b[38;5;241m==\u001b[39m \u001b[38;5;124m\"\u001b[39m\u001b[38;5;124marray\u001b[39m\u001b[38;5;124m\"\u001b[39m:\n\u001b[1;32m    265\u001b[0m     to_pandas_kwargs[\u001b[38;5;124m\"\u001b[39m\u001b[38;5;124msplit_blocks\u001b[39m\u001b[38;5;124m\"\u001b[39m] \u001b[38;5;241m=\u001b[39m \u001b[38;5;28;01mTrue\u001b[39;00m  \u001b[38;5;66;03m# type: ignore[assignment]\u001b[39;00m\n\u001b[0;32m--> 267\u001b[0m path_or_handle, handles, filesystem \u001b[38;5;241m=\u001b[39m _get_path_or_handle(\n\u001b[1;32m    268\u001b[0m     path,\n\u001b[1;32m    269\u001b[0m     filesystem,\n\u001b[1;32m    270\u001b[0m     storage_options\u001b[38;5;241m=\u001b[39mstorage_options,\n\u001b[1;32m    271\u001b[0m     mode\u001b[38;5;241m=\u001b[39m\u001b[38;5;124m\"\u001b[39m\u001b[38;5;124mrb\u001b[39m\u001b[38;5;124m\"\u001b[39m,\n\u001b[1;32m    272\u001b[0m )\n\u001b[1;32m    273\u001b[0m \u001b[38;5;28;01mtry\u001b[39;00m:\n\u001b[1;32m    274\u001b[0m     pa_table \u001b[38;5;241m=\u001b[39m \u001b[38;5;28mself\u001b[39m\u001b[38;5;241m.\u001b[39mapi\u001b[38;5;241m.\u001b[39mparquet\u001b[38;5;241m.\u001b[39mread_table(\n\u001b[1;32m    275\u001b[0m         path_or_handle,\n\u001b[1;32m    276\u001b[0m         columns\u001b[38;5;241m=\u001b[39mcolumns,\n\u001b[0;32m   (...)\u001b[0m\n\u001b[1;32m    279\u001b[0m         \u001b[38;5;241m*\u001b[39m\u001b[38;5;241m*\u001b[39mkwargs,\n\u001b[1;32m    280\u001b[0m     )\n",
      "File \u001b[0;32m~/.conda/envs/pacheco/lib/python3.11/site-packages/pandas/io/parquet.py:140\u001b[0m, in \u001b[0;36m_get_path_or_handle\u001b[0;34m(path, fs, storage_options, mode, is_dir)\u001b[0m\n\u001b[1;32m    130\u001b[0m handles \u001b[38;5;241m=\u001b[39m \u001b[38;5;28;01mNone\u001b[39;00m\n\u001b[1;32m    131\u001b[0m \u001b[38;5;28;01mif\u001b[39;00m (\n\u001b[1;32m    132\u001b[0m     \u001b[38;5;129;01mnot\u001b[39;00m fs\n\u001b[1;32m    133\u001b[0m     \u001b[38;5;129;01mand\u001b[39;00m \u001b[38;5;129;01mnot\u001b[39;00m is_dir\n\u001b[0;32m   (...)\u001b[0m\n\u001b[1;32m    138\u001b[0m     \u001b[38;5;66;03m# fsspec resources can also point to directories\u001b[39;00m\n\u001b[1;32m    139\u001b[0m     \u001b[38;5;66;03m# this branch is used for example when reading from non-fsspec URLs\u001b[39;00m\n\u001b[0;32m--> 140\u001b[0m     handles \u001b[38;5;241m=\u001b[39m get_handle(\n\u001b[1;32m    141\u001b[0m         path_or_handle, mode, is_text\u001b[38;5;241m=\u001b[39m\u001b[38;5;28;01mFalse\u001b[39;00m, storage_options\u001b[38;5;241m=\u001b[39mstorage_options\n\u001b[1;32m    142\u001b[0m     )\n\u001b[1;32m    143\u001b[0m     fs \u001b[38;5;241m=\u001b[39m \u001b[38;5;28;01mNone\u001b[39;00m\n\u001b[1;32m    144\u001b[0m     path_or_handle \u001b[38;5;241m=\u001b[39m handles\u001b[38;5;241m.\u001b[39mhandle\n",
      "File \u001b[0;32m~/.conda/envs/pacheco/lib/python3.11/site-packages/pandas/io/common.py:882\u001b[0m, in \u001b[0;36mget_handle\u001b[0;34m(path_or_buf, mode, encoding, compression, memory_map, is_text, errors, storage_options)\u001b[0m\n\u001b[1;32m    873\u001b[0m         handle \u001b[38;5;241m=\u001b[39m \u001b[38;5;28mopen\u001b[39m(\n\u001b[1;32m    874\u001b[0m             handle,\n\u001b[1;32m    875\u001b[0m             ioargs\u001b[38;5;241m.\u001b[39mmode,\n\u001b[0;32m   (...)\u001b[0m\n\u001b[1;32m    878\u001b[0m             newline\u001b[38;5;241m=\u001b[39m\u001b[38;5;124m\"\u001b[39m\u001b[38;5;124m\"\u001b[39m,\n\u001b[1;32m    879\u001b[0m         )\n\u001b[1;32m    880\u001b[0m     \u001b[38;5;28;01melse\u001b[39;00m:\n\u001b[1;32m    881\u001b[0m         \u001b[38;5;66;03m# Binary mode\u001b[39;00m\n\u001b[0;32m--> 882\u001b[0m         handle \u001b[38;5;241m=\u001b[39m \u001b[38;5;28mopen\u001b[39m(handle, ioargs\u001b[38;5;241m.\u001b[39mmode)\n\u001b[1;32m    883\u001b[0m     handles\u001b[38;5;241m.\u001b[39mappend(handle)\n\u001b[1;32m    885\u001b[0m \u001b[38;5;66;03m# Convert BytesIO or file objects passed with an encoding\u001b[39;00m\n",
      "\u001b[0;31mFileNotFoundError\u001b[0m: [Errno 2] No such file or directory: 'features/test/selected_hashtags.interactions.parquet'"
     ]
    }
   ],
   "source": [
    "interactions = pd.read_parquet(\"features/test/selected_hashtags.interactions.parquet\")\n",
    "interactions"
   ]
  },
  {
   "cell_type": "code",
   "execution_count": null,
   "metadata": {},
   "outputs": [
    {
     "data": {
      "text/plain": [
       "{'user001': [('2024-06-25T09:30:15Z',\n",
       "   'Exploring the frontiers of #tech with groundbreaking #AI applications. The future of #innovation is here!'),\n",
       "  ('2024-06-25T14:45:30Z',\n",
       "   'Diving deep into #AI and #machinelearning algorithms. The possibilities in #datascience are endless!'),\n",
       "  ('2024-06-25T20:15:00Z',\n",
       "   'Another day, another line of code. #tech never sleeps, especially in the world of #programming and #AI.')],\n",
       " 'user002': [('2024-06-25T10:15:00Z',\n",
       "   \"Embarking on a new #travel #adventure! Can't wait to capture memories through #photography.\"),\n",
       "  ('2024-06-25T16:20:45Z',\n",
       "   'Experiencing new #culture through local cuisines. #travel opens your mind and your taste buds! #foodie'),\n",
       "  ('2024-06-25T22:05:30Z',\n",
       "   'Captured this stunning sunset during my #travel. #nature provides the best canvas for #photography.'),\n",
       "  ('2024-06-26T08:30:15Z',\n",
       "   'Starting the day with an invigorating #hiking trip. Every step is an #adventure in this #travel journey.')],\n",
       " 'user003': [('2024-06-25T08:00:00Z',\n",
       "   'Morning workout done! Commitment to #fitness is a commitment to #health and overall #wellness.'),\n",
       "  ('2024-06-25T13:30:15Z',\n",
       "   'Prepped my meals for the week. #nutrition is key to maintaining good #health. #cleaneating for the win!'),\n",
       "  ('2024-06-25T18:45:30Z',\n",
       "   'Ending the day with meditation. #mindfulness practices are crucial for #wellness and #mentalhealth.'),\n",
       "  ('2024-06-26T07:15:00Z',\n",
       "   'Rise and grind! Another day to push your limits. #fitness is all about consistency and #motivation. #health')],\n",
       " 'user004': [('2024-06-25T11:10:00Z',\n",
       "   'Attending a conference on emerging #tech. The advancements in #AI are mind-blowing! #futuretech is now.'),\n",
       "  ('2024-06-25T15:25:45Z',\n",
       "   'Deep diving into #AI algorithms. The intersection of #machinelearning and #datascience is fascinating.'),\n",
       "  ('2024-06-25T20:40:30Z',\n",
       "   'Brainstorming session for our #tech #startup. #innovation is the key to staying ahead in this fast-paced world.'),\n",
       "  ('2024-06-26T09:05:15Z',\n",
       "   'Coffee ✓ Code ✓ Repeat ✓ Another day in #tech paradise. #coding is life. #softwaredevelopment never stops.')],\n",
       " 'user005': [('2024-06-25T09:45:30Z',\n",
       "   'Finding #inspiration in the mundane. #art is everywhere if you look closely. #creativity knows no bounds.'),\n",
       "  ('2024-06-25T14:20:15Z',\n",
       "   'Experimenting with new techniques in #digitalart. Blending traditional #art with modern #graphicdesign.'),\n",
       "  ('2024-06-25T19:55:00Z',\n",
       "   'Excited for my upcoming #art #exhibition! Showcasing a series on the theme of urban solitude. #contemporaryart'),\n",
       "  ('2024-06-26T10:30:45Z',\n",
       "   'Morning sketches to kickstart the day. #creativity flows best when the mind is fresh. #art is my #inspiration.')],\n",
       " 'user006': [('2024-06-25T08:15:00Z',\n",
       "   \"Back in the #studio working on the #newalbum. Can't wait for you all to hear this #music!\"),\n",
       "  ('2024-06-25T13:40:30Z',\n",
       "   \"#musicproduction is a perfect blend of technical skill and #creativity. It's #art in its purest form.\"),\n",
       "  ('2024-06-25T19:20:15Z',\n",
       "   \"Nothing beats the energy of #livemusic! Gearing up for tonight's #concert. Let's make some unforgettable #music together!\")],\n",
       " 'user007': [('2024-06-25T10:00:00Z',\n",
       "   'Exciting breakthroughs in our #research lab today! #science and #innovation go hand in hand.'),\n",
       "  ('2024-06-25T15:30:45Z',\n",
       "   \"Inspiring the next generation of scientists at today's #STEM fair. The future of #science is bright! #education\"),\n",
       "  ('2024-06-25T21:10:30Z',\n",
       "   'Exploring the intersection of #AI and #science. The possibilities of #futuretech are endless!')],\n",
       " 'user008': [('2024-06-25T09:20:15Z',\n",
       "   'Small changes lead to big impact. Embracing #sustainability in everyday life. #environment #greenliving'),\n",
       "  ('2024-06-25T14:45:00Z',\n",
       "   'Join us for a beach clean-up this weekend! #climateaction starts with us. Protecting our #nature is key to #sustainability.'),\n",
       "  ('2024-06-25T20:00:30Z',\n",
       "   'Excited about the latest advancements in #renewableenergy! #sustainability meets #innovation for a better future.')],\n",
       " 'user009': [('2024-06-25T08:45:30Z',\n",
       "   'Morning market review: Interesting trends in tech stocks. #finance #investing #moneytips'),\n",
       "  ('2024-06-25T13:15:15Z',\n",
       "   'Webinar alert! Join us for a deep dive into #cryptocurrency and its impact on traditional #finance. #blockchain technology is reshaping the industry.'),\n",
       "  ('2024-06-25T18:30:00Z',\n",
       "   'Your daily reminder: Budgeting is key to financial freedom. #personalfinance #budgeting #financialliteracy')],\n",
       " 'user010': [('2024-06-25T11:00:45Z',\n",
       "   'Trying out a new #recipe today! Who else loves experimenting in the kitchen? #cooking #foodie'),\n",
       "  ('2024-06-25T16:25:30Z',\n",
       "   'Fresh out of the oven! Nothing beats the smell of homemade cookies. #baking #dessert #foodphotography'),\n",
       "  ('2024-06-25T21:50:15Z',\n",
       "   \"Meal prep done for the week! #healthyeating doesn't have to be boring. #nutrition is key to #wellness.\")],\n",
       " 'user011': [('2024-06-25T09:10:30Z',\n",
       "   'Starting the day with a rejuvenating #yoga session. #fitness for both body and mind. #mindfulness in motion.'),\n",
       "  ('2024-06-25T14:35:15Z',\n",
       "   \"5K run ✓ Endorphins flowing! #running is my therapy. #fitness is not just about looks, it's about #health.\"),\n",
       "  ('2024-06-25T20:05:00Z',\n",
       "   'Remember, rest is productive too. #wellness includes taking breaks. #selfcare is essential for #mentalhealth.')],\n",
       " 'user012': [('2024-06-25T10:40:45Z',\n",
       "   'Packed and ready for the next #adventure! Where should I go next? #travel #wanderlust'),\n",
       "  ('2024-06-25T15:55:30Z',\n",
       "   'Captured this breathtaking view on my hike today. #photography is about freezing moments in time. #travel #nature'),\n",
       "  ('2024-06-25T21:20:15Z',\n",
       "   'Office for the day: beachside cafe. Living the #digitalnomad dream! #travel and #remotework in perfect harmony.')],\n",
       " 'user013': [('2024-06-25T08:30:00Z',\n",
       "   \"Another day, another security patch. Stay vigilant, folks! #cybersecurity is everyone's responsibility. #tech #infosec\"),\n",
       "  ('2024-06-25T13:50:45Z',\n",
       "   'Exploring how #AI and #machinelearning are revolutionizing #cybersecurity. The future of digital protection is here!'),\n",
       "  ('2024-06-25T19:15:30Z',\n",
       "   'PSA: Update your passwords regularly! #passwordsecurity is your first line of defense in the digital world. #cybersecurity #tech')]}"
      ]
     },
     "execution_count": 9,
     "metadata": {},
     "output_type": "execute_result"
    }
   ],
   "source": [
    "with open(\"features/test/table.by.user.pkl\", 'rb') as f:\n",
    "    table = pickle.load(f)\n",
    "\n",
    "table"
   ]
  },
  {
   "cell_type": "code",
   "execution_count": null,
   "metadata": {},
   "outputs": [],
   "source": [
    "edges = pd.read_parquet(\"features/test/selected_hashtags.edge.parquet\")\n",
    "edges.head()"
   ]
  },
  {
   "cell_type": "code",
   "execution_count": 8,
   "metadata": {},
   "outputs": [
    {
     "data": {
      "text/plain": [
       "[]"
      ]
     },
     "execution_count": 8,
     "metadata": {},
     "output_type": "execute_result"
    }
   ],
   "source": [
    "with open(\"features/hk/hashtags.filtered.coord.pkl\", 'rb') as f:\n",
    "    coord = pickle.load(f)  \n",
    "\n",
    "coord"
   ]
  },
  {
   "cell_type": "code",
   "execution_count": null,
   "metadata": {},
   "outputs": [],
   "source": []
  }
 ],
 "metadata": {
  "kernelspec": {
   "display_name": "pacheco",
   "language": "python",
   "name": "python3"
  },
  "language_info": {
   "codemirror_mode": {
    "name": "ipython",
    "version": 3
   },
   "file_extension": ".py",
   "mimetype": "text/x-python",
   "name": "python",
   "nbconvert_exporter": "python",
   "pygments_lexer": "ipython3",
   "version": "3.1.undefined"
  }
 },
 "nbformat": 4,
 "nbformat_minor": 2
}
